{
 "metadata": {
  "language_info": {
   "codemirror_mode": {
    "name": "ipython",
    "version": 3
   },
   "file_extension": ".py",
   "mimetype": "text/x-python",
   "name": "python",
   "nbconvert_exporter": "python",
   "pygments_lexer": "ipython3",
   "version": "3.7.6"
  },
  "orig_nbformat": 2,
  "kernelspec": {
   "name": "python3",
   "display_name": "Python 3.7.6 64-bit",
   "metadata": {
    "interpreter": {
     "hash": "70b38d7a306a849643e446cd70466270a13445e5987dfa1344ef2b127438fa4d"
    }
   }
  }
 },
 "nbformat": 4,
 "nbformat_minor": 2,
 "cells": [
  {
   "cell_type": "code",
   "execution_count": 20,
   "metadata": {},
   "outputs": [
    {
     "output_type": "stream",
     "name": "stdout",
     "text": [
      "Constructing dataset\n"
     ]
    }
   ],
   "source": [
    "from prepare_dataset import Dataset\n",
    "from neural_net import NeuralNet\n",
    "from decision_tree import DecisionTree\n",
    "from svm import SVM\n",
    "\n",
    "dataset = Dataset()"
   ]
  },
  {
   "cell_type": "code",
   "execution_count": 34,
   "metadata": {},
   "outputs": [
    {
     "output_type": "stream",
     "name": "stdout",
     "text": [
      "['M' 'W' 'C' ... 'T' 'S' 'A']\n              precision    recall  f1-score   support\n\n           A       0.83      0.87      0.85       112\n           B       0.52      0.60      0.55       107\n           C       0.76      0.85      0.80       116\n           D       0.66      0.67      0.67       115\n           E       0.43      0.53      0.47       114\n           F       0.80      0.72      0.76       122\n           G       0.75      0.58      0.65       122\n           H       0.20      0.73      0.31       108\n           I       0.98      0.78      0.87       127\n           J       0.95      0.77      0.85       101\n           K       0.57      0.66      0.61       103\n           L       0.91      0.78      0.84       110\n           M       0.82      0.86      0.84       113\n           N       0.85      0.78      0.81       121\n           O       0.64      0.56      0.59       104\n           P       0.72      0.76      0.74       130\n           Q       0.80      0.59      0.68       124\n           R       0.62      0.38      0.47       114\n           S       0.82      0.53      0.65       118\n           T       0.97      0.73      0.83       124\n           U       0.97      0.67      0.79       126\n           V       0.89      0.79      0.84       105\n           W       0.92      0.82      0.87       105\n           X       0.73      0.63      0.68       127\n           Y       0.86      0.77      0.81       104\n           Z       0.79      0.68      0.73       128\n\n    accuracy                           0.69      3000\n   macro avg       0.76      0.70      0.71      3000\nweighted avg       0.76      0.69      0.72      3000\n\n\nDT: \ncriteria: gini \nmax depth: 10\nf1: 0.7158387921491172\n"
     ]
    }
   ],
   "source": [
    "# neural_net = NeuralNet(dataset)\n",
    "# print(neural_net)\n",
    "\n",
    "tree = DecisionTree(dataset)\n",
    "print(tree)\n",
    "\n",
    "# svm = SVM(dataset)\n",
    "# print(svm)"
   ]
  },
  {
   "cell_type": "code",
   "execution_count": 35,
   "metadata": {},
   "outputs": [
    {
     "output_type": "execute_result",
     "data": {
      "text/plain": [
       "array([[0.        , 0.        , 0.        , 0.        , 0.03409091,\n",
       "        0.        , 0.        , 0.        , 0.01136364, 0.        ,\n",
       "        0.06818182, 0.02272727, 0.        , 0.        , 0.        ,\n",
       "        0.        , 0.01136364, 0.        , 0.        , 0.15909091,\n",
       "        0.        , 0.        , 0.        , 0.65909091, 0.        ,\n",
       "        0.03409091]])"
      ]
     },
     "metadata": {},
     "execution_count": 35
    }
   ],
   "source": [
    "tree.predict([dataset.test_x[9]])"
   ]
  }
 ]
}